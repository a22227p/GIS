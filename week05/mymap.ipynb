{
 "cells": [
  {
   "cell_type": "code",
   "execution_count": 1,
   "metadata": {},
   "outputs": [
    {
     "data": {
      "text/plain": [
       "'地元のおすすめスポット'"
      ]
     },
     "execution_count": 1,
     "metadata": {},
     "output_type": "execute_result"
    }
   ],
   "source": [
    "'地元のおすすめスポット'"
   ]
  },
  {
   "cell_type": "code",
   "execution_count": 2,
   "metadata": {},
   "outputs": [],
   "source": [
    "import folium\n",
    "\n",
    "home = [35.7017337288166, 139.98310566703427]\n",
    "movietheater = [35.6862873142817, 139.99012602557255] \n",
    "restaurant = [35.6967357342822, 139.9850941988993]\n",
    "school = [35.69026133605375, 139.9796467902708]\n",
    "driving = [35.69233955293577, 139.98040691688777]\n",
    "\n",
    "m = folium.Map(location = [35.7017337288166, 139.98310566703427],zoom_start = 15)\n",
    "m = folium.Map(location = [35.6862873142817, 139.99012602557255],zoom_start = 15)\n",
    "m = folium.Map(location = [35.6967357342822, 139.9850941988993],zoom_start = 15)\n",
    "m = folium.Map(location = [35.69026133605375, 139.9796467902708],zoom_start = 15)\n",
    "m = folium.Map(location = [35.69233955293577, 139.98040691688777],zoom_start = 15)\n",
    "\n",
    "\n",
    "folium.Marker(\n",
    "    location = [35.7017337288166, 139.98310566703427],\n",
    "    popup = 'home',\n",
    "    tooltip= 'おうち',\n",
    "    icon = folium.Icon(color = 'lightgreen',icon = 'home')\n",
    "    ).add_to(m)\n",
    "\n",
    "folium.Marker(\n",
    "    location = [35.6862873142817, 139.99012602557255],\n",
    "    popup = 'movietheater',\n",
    "    tooltip = '映画館',\n",
    "    icon = folium.Icon(color = 'purple',icon = 'film')\n",
    "    ).add_to(m)\n",
    "\n",
    "folium.Marker(\n",
    "    location = [35.6967357342822, 139.9850941988993],\n",
    "    popup = 'restaurant',\n",
    "    tooltip = '美味しいごはん',\n",
    "    icon = folium.Icon(color = 'green',icon = 'cutlery')\n",
    "    ).add_to(m)\n",
    "\n",
    "folium.Marker(\n",
    "    location = [35.69026133605375, 139.9796467902708],\n",
    "    popup = 'school',\n",
    "    tooltip = '地元の中学校',\n",
    "    icon = folium.Icon(color = 'lightblue',icon = 'star')\n",
    "    ).add_to(m)\n",
    "\n",
    "folium.Marker(\n",
    "    location = [35.69233955293577, 139.98040691688777],\n",
    "    popup = 'driving ',\n",
    "    tooltip = 'くるま',\n",
    "    icon = folium.Icon(color = 'blue',icon = 'flag')\n",
    "    ).add_to(m)\n",
    "\n",
    "m\n",
    "\n",
    "m.save('map.html')\n",
    "\n"
   ]
  }
 ],
 "metadata": {
  "kernelspec": {
   "display_name": "gis",
   "language": "python",
   "name": "python3"
  },
  "language_info": {
   "codemirror_mode": {
    "name": "ipython",
    "version": 3
   },
   "file_extension": ".py",
   "mimetype": "text/x-python",
   "name": "python",
   "nbconvert_exporter": "python",
   "pygments_lexer": "ipython3",
   "version": "3.11.5"
  }
 },
 "nbformat": 4,
 "nbformat_minor": 2
}
