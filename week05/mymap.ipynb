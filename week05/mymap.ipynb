{
 "cells": [
  {
   "cell_type": "code",
   "execution_count": 1,
   "metadata": {},
   "outputs": [
    {
     "data": {
      "text/plain": [
       "'地元のおすすめスポット'"
      ]
     },
     "execution_count": 1,
     "metadata": {},
     "output_type": "execute_result"
    }
   ],
   "source": [
    "'地元のおすすめスポット'"
   ]
  },
  {
   "cell_type": "code",
   "execution_count": null,
   "metadata": {},
   "outputs": [],
   "source": [
    "import folium\n",
    "\n",
    "ouchi = [35.7017337288166, 139.98310566703427]\n",
    "movietheater = [35.68632219851878, 139.99010457116412]\n",
    "gohann = [35.69674008611157, 139.98509516542637]\n",
    "gakkou = [35.69028086004642, 139.97964312880197]\n",
    "drivingschool = [35.69237741319405, 139.98043695652711] \n",
    "\n",
    "m = folium.Map(location = [35.7017337288166, 139.98310566703427],zoom_start = 15)\n",
    "m = folium.Map(location = [35.68632219851878, 139.99010457116412],zoom_start = 15)\n",
    "m = folium.Map(location = [35.69674008611157, 139.98509516542637],zoom_start = 15)\n",
    "m = folium.Map(location = [35.69028086004642, 139.97964312880197],zoom_atart = 15)\n",
    "m = folium.Map(location = [35.69237741319405, 139.98043695652711],zoom_start = 15)\n"
   ]
  }
 ],
 "metadata": {
  "kernelspec": {
   "display_name": "gis",
   "language": "python",
   "name": "python3"
  },
  "language_info": {
   "codemirror_mode": {
    "name": "ipython",
    "version": 3
   },
   "file_extension": ".py",
   "mimetype": "text/x-python",
   "name": "python",
   "nbconvert_exporter": "python",
   "pygments_lexer": "ipython3",
   "version": "3.11.5"
  }
 },
 "nbformat": 4,
 "nbformat_minor": 2
}
