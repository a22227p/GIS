{
 "cells": [
  {
   "cell_type": "code",
   "execution_count": 5,
   "metadata": {},
   "outputs": [],
   "source": [
    "import pandas as pd\n",
    "import folium\n",
    "import matplotlib.pyplot as plt"
   ]
  },
  {
   "cell_type": "code",
   "execution_count": 7,
   "metadata": {},
   "outputs": [],
   "source": [
    "df = pd.read_csv('mydata.csv2.csv')"
   ]
  },
  {
   "cell_type": "code",
   "execution_count": 8,
   "metadata": {},
   "outputs": [
    {
     "data": {
      "text/html": [
       "<div>\n",
       "<style scoped>\n",
       "    .dataframe tbody tr th:only-of-type {\n",
       "        vertical-align: middle;\n",
       "    }\n",
       "\n",
       "    .dataframe tbody tr th {\n",
       "        vertical-align: top;\n",
       "    }\n",
       "\n",
       "    .dataframe thead th {\n",
       "        text-align: right;\n",
       "    }\n",
       "</style>\n",
       "<table border=\"1\" class=\"dataframe\">\n",
       "  <thead>\n",
       "    <tr style=\"text-align: right;\">\n",
       "      <th></th>\n",
       "      <th>name</th>\n",
       "      <th>description</th>\n",
       "      <th>latitude</th>\n",
       "      <th>longitude</th>\n",
       "      <th>color</th>\n",
       "    </tr>\n",
       "  </thead>\n",
       "  <tbody>\n",
       "    <tr>\n",
       "      <th>0</th>\n",
       "      <td>ハウス</td>\n",
       "      <td>自分の家</td>\n",
       "      <td>35.696999</td>\n",
       "      <td>139.983645</td>\n",
       "      <td>green</td>\n",
       "    </tr>\n",
       "    <tr>\n",
       "      <th>1</th>\n",
       "      <td>湊町小学校</td>\n",
       "      <td>自分が通っていた地元の小学校</td>\n",
       "      <td>35.692991</td>\n",
       "      <td>139.986452</td>\n",
       "      <td>yellow</td>\n",
       "    </tr>\n",
       "    <tr>\n",
       "      <th>2</th>\n",
       "      <td>湊中学校</td>\n",
       "      <td>地元の中学校</td>\n",
       "      <td>35.690368</td>\n",
       "      <td>139.979620</td>\n",
       "      <td>purple</td>\n",
       "    </tr>\n",
       "    <tr>\n",
       "      <th>3</th>\n",
       "      <td>市川東高校</td>\n",
       "      <td>卒業した高校</td>\n",
       "      <td>35.738138</td>\n",
       "      <td>139.955670</td>\n",
       "      <td>red</td>\n",
       "    </tr>\n",
       "    <tr>\n",
       "      <th>4</th>\n",
       "      <td>ソフィアドライビングスクール</td>\n",
       "      <td>卒業した地元の教習所</td>\n",
       "      <td>35.692465</td>\n",
       "      <td>139.980439</td>\n",
       "      <td>blue</td>\n",
       "    </tr>\n",
       "    <tr>\n",
       "      <th>5</th>\n",
       "      <td>映画館</td>\n",
       "      <td>ショッピングセンターの中にある映画館</td>\n",
       "      <td>35.686722</td>\n",
       "      <td>139.988646</td>\n",
       "      <td>orange</td>\n",
       "    </tr>\n",
       "    <tr>\n",
       "      <th>6</th>\n",
       "      <td>レストラン</td>\n",
       "      <td>日替わりのランチが美味しい</td>\n",
       "      <td>35.696748</td>\n",
       "      <td>139.985094</td>\n",
       "      <td>lightblue</td>\n",
       "    </tr>\n",
       "    <tr>\n",
       "      <th>7</th>\n",
       "      <td>バイト</td>\n",
       "      <td>バイトしているところ</td>\n",
       "      <td>35.702071</td>\n",
       "      <td>139.985062</td>\n",
       "      <td>lightgreen</td>\n",
       "    </tr>\n",
       "    <tr>\n",
       "      <th>8</th>\n",
       "      <td>麗澤大学</td>\n",
       "      <td>通っている大学</td>\n",
       "      <td>35.833253</td>\n",
       "      <td>139.954992</td>\n",
       "      <td>pink</td>\n",
       "    </tr>\n",
       "    <tr>\n",
       "      <th>9</th>\n",
       "      <td>タツノコ</td>\n",
       "      <td>卒業した高校の帰り道にあるお惣菜屋さん</td>\n",
       "      <td>35.732061</td>\n",
       "      <td>139.965552</td>\n",
       "      <td>white</td>\n",
       "    </tr>\n",
       "  </tbody>\n",
       "</table>\n",
       "</div>"
      ],
      "text/plain": [
       "             name          description   latitude   longitude       color\n",
       "0             ハウス                 自分の家  35.696999  139.983645       green\n",
       "1           湊町小学校       自分が通っていた地元の小学校  35.692991  139.986452      yellow\n",
       "2            湊中学校               地元の中学校  35.690368  139.979620      purple\n",
       "3           市川東高校               卒業した高校  35.738138  139.955670         red\n",
       "4  ソフィアドライビングスクール           卒業した地元の教習所  35.692465  139.980439        blue\n",
       "5             映画館   ショッピングセンターの中にある映画館  35.686722  139.988646      orange\n",
       "6           レストラン        日替わりのランチが美味しい  35.696748  139.985094   lightblue\n",
       "7             バイト           バイトしているところ  35.702071  139.985062  lightgreen\n",
       "8            麗澤大学              通っている大学  35.833253  139.954992        pink\n",
       "9            タツノコ  卒業した高校の帰り道にあるお惣菜屋さん  35.732061  139.965552       white"
      ]
     },
     "execution_count": 8,
     "metadata": {},
     "output_type": "execute_result"
    }
   ],
   "source": [
    "df"
   ]
  },
  {
   "cell_type": "code",
   "execution_count": null,
   "metadata": {},
   "outputs": [],
   "source": [
    "m = folium.Map"
   ]
  }
 ],
 "metadata": {
  "kernelspec": {
   "display_name": "gis",
   "language": "python",
   "name": "python3"
  },
  "language_info": {
   "codemirror_mode": {
    "name": "ipython",
    "version": 3
   },
   "file_extension": ".py",
   "mimetype": "text/x-python",
   "name": "python",
   "nbconvert_exporter": "python",
   "pygments_lexer": "ipython3",
   "version": "3.11.5"
  }
 },
 "nbformat": 4,
 "nbformat_minor": 2
}
