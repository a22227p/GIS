{
 "cells": [
  {
   "cell_type": "code",
   "execution_count": 2,
   "metadata": {},
   "outputs": [],
   "source": [
    "import geopandas as gpd\n",
    "import pandas as pd"
   ]
  },
  {
   "cell_type": "code",
   "execution_count": 3,
   "metadata": {},
   "outputs": [],
   "source": [
    "okinawa_ku = gpd.read_file('okinawa_ku.geojson')"
   ]
  },
  {
   "cell_type": "code",
   "execution_count": 4,
   "metadata": {},
   "outputs": [
    {
     "data": {
      "text/plain": [
       "<Axes: >"
      ]
     },
     "execution_count": 4,
     "metadata": {},
     "output_type": "execute_result"
    },
    {
     "data": {
      "image/png": "[encoded data removed]",
      "text/plain": [
       "<Figure size 640x480 with 1 Axes>"
      ]
     },
     "metadata": {},
     "output_type": "display_data"
    }
   ],
   "source": [
    "okinawa_ku.plot()"
   ]
  },
  {
   "cell_type": "code",
   "execution_count": 5,
   "metadata": {},
   "outputs": [
    {
     "data": {
      "text/html": [
       "<div>\n",
       "<style scoped>\n",
       "    .dataframe tbody tr th:only-of-type {\n",
       "        vertical-align: middle;\n",
       "    }\n",
       "\n",
       "    .dataframe tbody tr th {\n",
       "        vertical-align: top;\n",
       "    }\n",
       "\n",
       "    .dataframe thead th {\n",
       "        text-align: right;\n",
       "    }\n",
       "</style>\n",
       "<table border=\"1\" class=\"dataframe\">\n",
       "  <thead>\n",
       "    <tr style=\"text-align: right;\">\n",
       "      <th></th>\n",
       "      <th>N03_001</th>\n",
       "      <th>N03_002</th>\n",
       "      <th>N03_003</th>\n",
       "      <th>N03_004</th>\n",
       "      <th>N03_007</th>\n",
       "      <th>geometry</th>\n",
       "    </tr>\n",
       "  </thead>\n",
       "  <tbody>\n",
       "    <tr>\n",
       "      <th>0</th>\n",
       "      <td>沖縄県</td>\n",
       "      <td>NaN</td>\n",
       "      <td>NaN</td>\n",
       "      <td>那覇市</td>\n",
       "      <td>47201</td>\n",
       "      <td>POLYGON ((127.67066 26.22144, 127.67040 26.221...</td>\n",
       "    </tr>\n",
       "    <tr>\n",
       "      <th>1</th>\n",
       "      <td>沖縄県</td>\n",
       "      <td>NaN</td>\n",
       "      <td>NaN</td>\n",
       "      <td>那覇市</td>\n",
       "      <td>47201</td>\n",
       "      <td>POLYGON ((127.66587 26.22150, 127.66585 26.221...</td>\n",
       "    </tr>\n",
       "    <tr>\n",
       "      <th>2</th>\n",
       "      <td>沖縄県</td>\n",
       "      <td>NaN</td>\n",
       "      <td>NaN</td>\n",
       "      <td>那覇市</td>\n",
       "      <td>47201</td>\n",
       "      <td>POLYGON ((127.67139 26.22179, 127.67139 26.221...</td>\n",
       "    </tr>\n",
       "    <tr>\n",
       "      <th>3</th>\n",
       "      <td>沖縄県</td>\n",
       "      <td>NaN</td>\n",
       "      <td>NaN</td>\n",
       "      <td>那覇市</td>\n",
       "      <td>47201</td>\n",
       "      <td>POLYGON ((127.66913 26.22214, 127.66954 26.221...</td>\n",
       "    </tr>\n",
       "    <tr>\n",
       "      <th>4</th>\n",
       "      <td>沖縄県</td>\n",
       "      <td>NaN</td>\n",
       "      <td>NaN</td>\n",
       "      <td>那覇市</td>\n",
       "      <td>47201</td>\n",
       "      <td>POLYGON ((127.64293 26.22342, 127.64315 26.216...</td>\n",
       "    </tr>\n",
       "  </tbody>\n",
       "</table>\n",
       "</div>"
      ],
      "text/plain": [
       "  N03_001  N03_002 N03_003 N03_004 N03_007  \\\n",
       "0     沖縄県      NaN     NaN     那覇市   47201   \n",
       "1     沖縄県      NaN     NaN     那覇市   47201   \n",
       "2     沖縄県      NaN     NaN     那覇市   47201   \n",
       "3     沖縄県      NaN     NaN     那覇市   47201   \n",
       "4     沖縄県      NaN     NaN     那覇市   47201   \n",
       "\n",
       "                                            geometry  \n",
       "0  POLYGON ((127.67066 26.22144, 127.67040 26.221...  \n",
       "1  POLYGON ((127.66587 26.22150, 127.66585 26.221...  \n",
       "2  POLYGON ((127.67139 26.22179, 127.67139 26.221...  \n",
       "3  POLYGON ((127.66913 26.22214, 127.66954 26.221...  \n",
       "4  POLYGON ((127.64293 26.22342, 127.64315 26.216...  "
      ]
     },
     "execution_count": 5,
     "metadata": {},
     "output_type": "execute_result"
    }
   ],
   "source": [
    "okinawa_ku.head()"
   ]
  },
  {
   "cell_type": "code",
   "execution_count": 6,
   "metadata": {},
   "outputs": [
    {
     "name": "stdout",
     "output_type": "stream",
     "text": [
      "<class 'geopandas.geodataframe.GeoDataFrame'>\n",
      "RangeIndex: 5627 entries, 0 to 5626\n",
      "Data columns (total 6 columns):\n",
      " #   Column    Non-Null Count  Dtype   \n",
      "---  ------    --------------  -----   \n",
      " 0   N03_001   5627 non-null   object  \n",
      " 1   N03_002   0 non-null      float64 \n",
      " 2   N03_003   2196 non-null   object  \n",
      " 3   N03_004   5627 non-null   object  \n",
      " 4   N03_007   5627 non-null   object  \n",
      " 5   geometry  5627 non-null   geometry\n",
      "dtypes: float64(1), geometry(1), object(4)\n",
      "memory usage: 263.9+ KB\n"
     ]
    }
   ],
   "source": [
    "okinawa_ku.info()"
   ]
  },
  {
   "cell_type": "code",
   "execution_count": 7,
   "metadata": {},
   "outputs": [],
   "source": [
    "okinawa_pop = pd.read_csv('okinawa.csv')"
   ]
  },
  {
   "cell_type": "code",
   "execution_count": 8,
   "metadata": {},
   "outputs": [
    {
     "data": {
      "text/html": [
       "<div>\n",
       "<style scoped>\n",
       "    .dataframe tbody tr th:only-of-type {\n",
       "        vertical-align: middle;\n",
       "    }\n",
       "\n",
       "    .dataframe tbody tr th {\n",
       "        vertical-align: top;\n",
       "    }\n",
       "\n",
       "    .dataframe thead th {\n",
       "        text-align: right;\n",
       "    }\n",
       "</style>\n",
       "<table border=\"1\" class=\"dataframe\">\n",
       "  <thead>\n",
       "    <tr style=\"text-align: right;\">\n",
       "      <th></th>\n",
       "      <th>KEY_CODE</th>\n",
       "      <th>HYOSYO</th>\n",
       "      <th>CITYNAME</th>\n",
       "      <th>NAME</th>\n",
       "      <th>HTKSYORI</th>\n",
       "      <th>HTKSAKI</th>\n",
       "      <th>GASSAN</th>\n",
       "      <th>人口総数</th>\n",
       "      <th>男</th>\n",
       "      <th>女</th>\n",
       "      <th>世帯総数</th>\n",
       "    </tr>\n",
       "  </thead>\n",
       "  <tbody>\n",
       "    <tr>\n",
       "      <th>0</th>\n",
       "      <td>47201</td>\n",
       "      <td>1</td>\n",
       "      <td>那覇市</td>\n",
       "      <td>NaN</td>\n",
       "      <td>0</td>\n",
       "      <td>NaN</td>\n",
       "      <td>NaN</td>\n",
       "      <td>317625</td>\n",
       "      <td>154042</td>\n",
       "      <td>163583</td>\n",
       "      <td>144355</td>\n",
       "    </tr>\n",
       "    <tr>\n",
       "      <th>1</th>\n",
       "      <td>472010010</td>\n",
       "      <td>3</td>\n",
       "      <td>那覇市</td>\n",
       "      <td>曙</td>\n",
       "      <td>0</td>\n",
       "      <td>NaN</td>\n",
       "      <td>NaN</td>\n",
       "      <td>4673</td>\n",
       "      <td>2414</td>\n",
       "      <td>2259</td>\n",
       "      <td>2350</td>\n",
       "    </tr>\n",
       "    <tr>\n",
       "      <th>2</th>\n",
       "      <td>47201001001</td>\n",
       "      <td>4</td>\n",
       "      <td>那覇市</td>\n",
       "      <td>曙一丁目</td>\n",
       "      <td>0</td>\n",
       "      <td>NaN</td>\n",
       "      <td>NaN</td>\n",
       "      <td>1416</td>\n",
       "      <td>772</td>\n",
       "      <td>644</td>\n",
       "      <td>799</td>\n",
       "    </tr>\n",
       "    <tr>\n",
       "      <th>3</th>\n",
       "      <td>47201001002</td>\n",
       "      <td>4</td>\n",
       "      <td>那覇市</td>\n",
       "      <td>曙二丁目</td>\n",
       "      <td>0</td>\n",
       "      <td>NaN</td>\n",
       "      <td>NaN</td>\n",
       "      <td>1337</td>\n",
       "      <td>670</td>\n",
       "      <td>667</td>\n",
       "      <td>653</td>\n",
       "    </tr>\n",
       "    <tr>\n",
       "      <th>4</th>\n",
       "      <td>47201001003</td>\n",
       "      <td>4</td>\n",
       "      <td>那覇市</td>\n",
       "      <td>曙三丁目</td>\n",
       "      <td>0</td>\n",
       "      <td>NaN</td>\n",
       "      <td>NaN</td>\n",
       "      <td>1920</td>\n",
       "      <td>972</td>\n",
       "      <td>948</td>\n",
       "      <td>898</td>\n",
       "    </tr>\n",
       "  </tbody>\n",
       "</table>\n",
       "</div>"
      ],
      "text/plain": [
       "      KEY_CODE  HYOSYO CITYNAME  NAME  HTKSYORI  HTKSAKI  GASSAN    人口総数  \\\n",
       "0        47201       1      那覇市   NaN         0      NaN     NaN  317625   \n",
       "1    472010010       3      那覇市     曙         0      NaN     NaN    4673   \n",
       "2  47201001001       4      那覇市  曙一丁目         0      NaN     NaN    1416   \n",
       "3  47201001002       4      那覇市  曙二丁目         0      NaN     NaN    1337   \n",
       "4  47201001003       4      那覇市  曙三丁目         0      NaN     NaN    1920   \n",
       "\n",
       "        男       女    世帯総数  \n",
       "0  154042  163583  144355  \n",
       "1    2414    2259    2350  \n",
       "2     772     644     799  \n",
       "3     670     667     653  \n",
       "4     972     948     898  "
      ]
     },
     "execution_count": 8,
     "metadata": {},
     "output_type": "execute_result"
    }
   ],
   "source": [
    "okinawa_pop.head()"
   ]
  },
  {
   "cell_type": "code",
   "execution_count": 9,
   "metadata": {},
   "outputs": [
    {
     "name": "stdout",
     "output_type": "stream",
     "text": [
      "<class 'pandas.core.frame.DataFrame'>\n",
      "RangeIndex: 1496 entries, 0 to 1495\n",
      "Data columns (total 11 columns):\n",
      " #   Column    Non-Null Count  Dtype  \n",
      "---  ------    --------------  -----  \n",
      " 0   KEY_CODE  1496 non-null   int64  \n",
      " 1   HYOSYO    1496 non-null   int64  \n",
      " 2   CITYNAME  1496 non-null   object \n",
      " 3   NAME      1444 non-null   object \n",
      " 4   HTKSYORI  1496 non-null   int64  \n",
      " 5   HTKSAKI   0 non-null      float64\n",
      " 6   GASSAN    0 non-null      float64\n",
      " 7   人口総数      1496 non-null   object \n",
      " 8   男         1496 non-null   object \n",
      " 9   女         1496 non-null   object \n",
      " 10  世帯総数      1496 non-null   object \n",
      "dtypes: float64(2), int64(3), object(6)\n",
      "memory usage: 128.7+ KB\n"
     ]
    }
   ],
   "source": [
    "okinawa_pop.info()"
   ]
  },
  {
   "cell_type": "code",
   "execution_count": 10,
   "metadata": {},
   "outputs": [],
   "source": [
    "okinawa_ku.rename(columns = {'N03_007':'KEY_CODE'},inplace = True)"
   ]
  },
  {
   "cell_type": "code",
   "execution_count": 11,
   "metadata": {},
   "outputs": [
    {
     "data": {
      "text/html": [
       "<div>\n",
       "<style scoped>\n",
       "    .dataframe tbody tr th:only-of-type {\n",
       "        vertical-align: middle;\n",
       "    }\n",
       "\n",
       "    .dataframe tbody tr th {\n",
       "        vertical-align: top;\n",
       "    }\n",
       "\n",
       "    .dataframe thead th {\n",
       "        text-align: right;\n",
       "    }\n",
       "</style>\n",
       "<table border=\"1\" class=\"dataframe\">\n",
       "  <thead>\n",
       "    <tr style=\"text-align: right;\">\n",
       "      <th></th>\n",
       "      <th>N03_001</th>\n",
       "      <th>N03_002</th>\n",
       "      <th>N03_003</th>\n",
       "      <th>N03_004</th>\n",
       "      <th>KEY_CODE</th>\n",
       "      <th>geometry</th>\n",
       "    </tr>\n",
       "  </thead>\n",
       "  <tbody>\n",
       "    <tr>\n",
       "      <th>0</th>\n",
       "      <td>沖縄県</td>\n",
       "      <td>NaN</td>\n",
       "      <td>NaN</td>\n",
       "      <td>那覇市</td>\n",
       "      <td>47201</td>\n",
       "      <td>POLYGON ((127.67066 26.22144, 127.67040 26.221...</td>\n",
       "    </tr>\n",
       "    <tr>\n",
       "      <th>1</th>\n",
       "      <td>沖縄県</td>\n",
       "      <td>NaN</td>\n",
       "      <td>NaN</td>\n",
       "      <td>那覇市</td>\n",
       "      <td>47201</td>\n",
       "      <td>POLYGON ((127.66587 26.22150, 127.66585 26.221...</td>\n",
       "    </tr>\n",
       "    <tr>\n",
       "      <th>2</th>\n",
       "      <td>沖縄県</td>\n",
       "      <td>NaN</td>\n",
       "      <td>NaN</td>\n",
       "      <td>那覇市</td>\n",
       "      <td>47201</td>\n",
       "      <td>POLYGON ((127.67139 26.22179, 127.67139 26.221...</td>\n",
       "    </tr>\n",
       "    <tr>\n",
       "      <th>3</th>\n",
       "      <td>沖縄県</td>\n",
       "      <td>NaN</td>\n",
       "      <td>NaN</td>\n",
       "      <td>那覇市</td>\n",
       "      <td>47201</td>\n",
       "      <td>POLYGON ((127.66913 26.22214, 127.66954 26.221...</td>\n",
       "    </tr>\n",
       "    <tr>\n",
       "      <th>4</th>\n",
       "      <td>沖縄県</td>\n",
       "      <td>NaN</td>\n",
       "      <td>NaN</td>\n",
       "      <td>那覇市</td>\n",
       "      <td>47201</td>\n",
       "      <td>POLYGON ((127.64293 26.22342, 127.64315 26.216...</td>\n",
       "    </tr>\n",
       "    <tr>\n",
       "      <th>...</th>\n",
       "      <td>...</td>\n",
       "      <td>...</td>\n",
       "      <td>...</td>\n",
       "      <td>...</td>\n",
       "      <td>...</td>\n",
       "      <td>...</td>\n",
       "    </tr>\n",
       "    <tr>\n",
       "      <th>5622</th>\n",
       "      <td>沖縄県</td>\n",
       "      <td>NaN</td>\n",
       "      <td>八重山郡</td>\n",
       "      <td>与那国町</td>\n",
       "      <td>47382</td>\n",
       "      <td>POLYGON ((122.99033 24.47245, 122.99031 24.472...</td>\n",
       "    </tr>\n",
       "    <tr>\n",
       "      <th>5623</th>\n",
       "      <td>沖縄県</td>\n",
       "      <td>NaN</td>\n",
       "      <td>八重山郡</td>\n",
       "      <td>与那国町</td>\n",
       "      <td>47382</td>\n",
       "      <td>POLYGON ((123.00771 24.47383, 123.00773 24.473...</td>\n",
       "    </tr>\n",
       "    <tr>\n",
       "      <th>5624</th>\n",
       "      <td>沖縄県</td>\n",
       "      <td>NaN</td>\n",
       "      <td>八重山郡</td>\n",
       "      <td>与那国町</td>\n",
       "      <td>47382</td>\n",
       "      <td>POLYGON ((123.00657 24.47437, 123.00658 24.474...</td>\n",
       "    </tr>\n",
       "    <tr>\n",
       "      <th>5625</th>\n",
       "      <td>沖縄県</td>\n",
       "      <td>NaN</td>\n",
       "      <td>八重山郡</td>\n",
       "      <td>与那国町</td>\n",
       "      <td>47382</td>\n",
       "      <td>POLYGON ((122.99828 24.47500, 123.00000 24.473...</td>\n",
       "    </tr>\n",
       "    <tr>\n",
       "      <th>5626</th>\n",
       "      <td>沖縄県</td>\n",
       "      <td>NaN</td>\n",
       "      <td>NaN</td>\n",
       "      <td>うるま市・金武町境界部地先の埋立地</td>\n",
       "      <td>47801</td>\n",
       "      <td>POLYGON ((127.84164 26.43531, 127.84167 26.435...</td>\n",
       "    </tr>\n",
       "  </tbody>\n",
       "</table>\n",
       "<p>5627 rows × 6 columns</p>\n",
       "</div>"
      ],
      "text/plain": [
       "     N03_001  N03_002 N03_003            N03_004 KEY_CODE  \\\n",
       "0        沖縄県      NaN     NaN                那覇市    47201   \n",
       "1        沖縄県      NaN     NaN                那覇市    47201   \n",
       "2        沖縄県      NaN     NaN                那覇市    47201   \n",
       "3        沖縄県      NaN     NaN                那覇市    47201   \n",
       "4        沖縄県      NaN     NaN                那覇市    47201   \n",
       "...      ...      ...     ...                ...      ...   \n",
       "5622     沖縄県      NaN    八重山郡               与那国町    47382   \n",
       "5623     沖縄県      NaN    八重山郡               与那国町    47382   \n",
       "5624     沖縄県      NaN    八重山郡               与那国町    47382   \n",
       "5625     沖縄県      NaN    八重山郡               与那国町    47382   \n",
       "5626     沖縄県      NaN     NaN  うるま市・金武町境界部地先の埋立地    47801   \n",
       "\n",
       "                                               geometry  \n",
       "0     POLYGON ((127.67066 26.22144, 127.67040 26.221...  \n",
       "1     POLYGON ((127.66587 26.22150, 127.66585 26.221...  \n",
       "2     POLYGON ((127.67139 26.22179, 127.67139 26.221...  \n",
       "3     POLYGON ((127.66913 26.22214, 127.66954 26.221...  \n",
       "4     POLYGON ((127.64293 26.22342, 127.64315 26.216...  \n",
       "...                                                 ...  \n",
       "5622  POLYGON ((122.99033 24.47245, 122.99031 24.472...  \n",
       "5623  POLYGON ((123.00771 24.47383, 123.00773 24.473...  \n",
       "5624  POLYGON ((123.00657 24.47437, 123.00658 24.474...  \n",
       "5625  POLYGON ((122.99828 24.47500, 123.00000 24.473...  \n",
       "5626  POLYGON ((127.84164 26.43531, 127.84167 26.435...  \n",
       "\n",
       "[5627 rows x 6 columns]"
      ]
     },
     "execution_count": 11,
     "metadata": {},
     "output_type": "execute_result"
    }
   ],
   "source": [
    "okinawa_ku"
   ]
  },
  {
   "cell_type": "code",
   "execution_count": 12,
   "metadata": {},
   "outputs": [
    {
     "name": "stdout",
     "output_type": "stream",
     "text": [
      "<class 'geopandas.geodataframe.GeoDataFrame'>\n",
      "RangeIndex: 5627 entries, 0 to 5626\n",
      "Data columns (total 6 columns):\n",
      " #   Column    Non-Null Count  Dtype   \n",
      "---  ------    --------------  -----   \n",
      " 0   N03_001   5627 non-null   object  \n",
      " 1   N03_002   0 non-null      float64 \n",
      " 2   N03_003   2196 non-null   object  \n",
      " 3   N03_004   5627 non-null   object  \n",
      " 4   KEY_CODE  5627 non-null   object  \n",
      " 5   geometry  5627 non-null   geometry\n",
      "dtypes: float64(1), geometry(1), object(4)\n",
      "memory usage: 263.9+ KB\n"
     ]
    }
   ],
   "source": [
    "okinawa_ku.info()"
   ]
  },
  {
   "cell_type": "code",
   "execution_count": 13,
   "metadata": {},
   "outputs": [],
   "source": [
    "# OBJECTからintに変える\n",
    "okinawa_ku['KEY_CODE'] = okinawa_ku['KEY_CODE'].astype(int)"
   ]
  },
  {
   "cell_type": "code",
   "execution_count": 14,
   "metadata": {},
   "outputs": [
    {
     "name": "stdout",
     "output_type": "stream",
     "text": [
      "<class 'geopandas.geodataframe.GeoDataFrame'>\n",
      "RangeIndex: 5627 entries, 0 to 5626\n",
      "Data columns (total 6 columns):\n",
      " #   Column    Non-Null Count  Dtype   \n",
      "---  ------    --------------  -----   \n",
      " 0   N03_001   5627 non-null   object  \n",
      " 1   N03_002   0 non-null      float64 \n",
      " 2   N03_003   2196 non-null   object  \n",
      " 3   N03_004   5627 non-null   object  \n",
      " 4   KEY_CODE  5627 non-null   int32   \n",
      " 5   geometry  5627 non-null   geometry\n",
      "dtypes: float64(1), geometry(1), int32(1), object(3)\n",
      "memory usage: 241.9+ KB\n"
     ]
    }
   ],
   "source": [
    "okinawa_ku.info()"
   ]
  },
  {
   "cell_type": "code",
   "execution_count": 16,
   "metadata": {},
   "outputs": [],
   "source": [
    "okinawa_ku_pop = okinawa_ku.merge(okinawa_pop,on = 'KEY_CODE')"
   ]
  },
  {
   "cell_type": "code",
   "execution_count": 17,
   "metadata": {},
   "outputs": [
    {
     "data": {
      "text/html": [
       "<div>\n",
       "<style scoped>\n",
       "    .dataframe tbody tr th:only-of-type {\n",
       "        vertical-align: middle;\n",
       "    }\n",
       "\n",
       "    .dataframe tbody tr th {\n",
       "        vertical-align: top;\n",
       "    }\n",
       "\n",
       "    .dataframe thead th {\n",
       "        text-align: right;\n",
       "    }\n",
       "</style>\n",
       "<table border=\"1\" class=\"dataframe\">\n",
       "  <thead>\n",
       "    <tr style=\"text-align: right;\">\n",
       "      <th></th>\n",
       "      <th>N03_001</th>\n",
       "      <th>N03_002</th>\n",
       "      <th>N03_003</th>\n",
       "      <th>N03_004</th>\n",
       "      <th>KEY_CODE</th>\n",
       "      <th>geometry</th>\n",
       "      <th>HYOSYO</th>\n",
       "      <th>CITYNAME</th>\n",
       "      <th>NAME</th>\n",
       "      <th>HTKSYORI</th>\n",
       "      <th>HTKSAKI</th>\n",
       "      <th>GASSAN</th>\n",
       "      <th>人口総数</th>\n",
       "      <th>男</th>\n",
       "      <th>女</th>\n",
       "      <th>世帯総数</th>\n",
       "    </tr>\n",
       "  </thead>\n",
       "  <tbody>\n",
       "    <tr>\n",
       "      <th>0</th>\n",
       "      <td>沖縄県</td>\n",
       "      <td>NaN</td>\n",
       "      <td>NaN</td>\n",
       "      <td>那覇市</td>\n",
       "      <td>47201</td>\n",
       "      <td>POLYGON ((127.67066 26.22144, 127.67040 26.221...</td>\n",
       "      <td>1</td>\n",
       "      <td>那覇市</td>\n",
       "      <td>NaN</td>\n",
       "      <td>0</td>\n",
       "      <td>NaN</td>\n",
       "      <td>NaN</td>\n",
       "      <td>317625</td>\n",
       "      <td>154042</td>\n",
       "      <td>163583</td>\n",
       "      <td>144355</td>\n",
       "    </tr>\n",
       "    <tr>\n",
       "      <th>1</th>\n",
       "      <td>沖縄県</td>\n",
       "      <td>NaN</td>\n",
       "      <td>NaN</td>\n",
       "      <td>那覇市</td>\n",
       "      <td>47201</td>\n",
       "      <td>POLYGON ((127.66587 26.22150, 127.66585 26.221...</td>\n",
       "      <td>1</td>\n",
       "      <td>那覇市</td>\n",
       "      <td>NaN</td>\n",
       "      <td>0</td>\n",
       "      <td>NaN</td>\n",
       "      <td>NaN</td>\n",
       "      <td>317625</td>\n",
       "      <td>154042</td>\n",
       "      <td>163583</td>\n",
       "      <td>144355</td>\n",
       "    </tr>\n",
       "    <tr>\n",
       "      <th>2</th>\n",
       "      <td>沖縄県</td>\n",
       "      <td>NaN</td>\n",
       "      <td>NaN</td>\n",
       "      <td>那覇市</td>\n",
       "      <td>47201</td>\n",
       "      <td>POLYGON ((127.67139 26.22179, 127.67139 26.221...</td>\n",
       "      <td>1</td>\n",
       "      <td>那覇市</td>\n",
       "      <td>NaN</td>\n",
       "      <td>0</td>\n",
       "      <td>NaN</td>\n",
       "      <td>NaN</td>\n",
       "      <td>317625</td>\n",
       "      <td>154042</td>\n",
       "      <td>163583</td>\n",
       "      <td>144355</td>\n",
       "    </tr>\n",
       "    <tr>\n",
       "      <th>3</th>\n",
       "      <td>沖縄県</td>\n",
       "      <td>NaN</td>\n",
       "      <td>NaN</td>\n",
       "      <td>那覇市</td>\n",
       "      <td>47201</td>\n",
       "      <td>POLYGON ((127.66913 26.22214, 127.66954 26.221...</td>\n",
       "      <td>1</td>\n",
       "      <td>那覇市</td>\n",
       "      <td>NaN</td>\n",
       "      <td>0</td>\n",
       "      <td>NaN</td>\n",
       "      <td>NaN</td>\n",
       "      <td>317625</td>\n",
       "      <td>154042</td>\n",
       "      <td>163583</td>\n",
       "      <td>144355</td>\n",
       "    </tr>\n",
       "    <tr>\n",
       "      <th>4</th>\n",
       "      <td>沖縄県</td>\n",
       "      <td>NaN</td>\n",
       "      <td>NaN</td>\n",
       "      <td>那覇市</td>\n",
       "      <td>47201</td>\n",
       "      <td>POLYGON ((127.64293 26.22342, 127.64315 26.216...</td>\n",
       "      <td>1</td>\n",
       "      <td>那覇市</td>\n",
       "      <td>NaN</td>\n",
       "      <td>0</td>\n",
       "      <td>NaN</td>\n",
       "      <td>NaN</td>\n",
       "      <td>317625</td>\n",
       "      <td>154042</td>\n",
       "      <td>163583</td>\n",
       "      <td>144355</td>\n",
       "    </tr>\n",
       "    <tr>\n",
       "      <th>...</th>\n",
       "      <td>...</td>\n",
       "      <td>...</td>\n",
       "      <td>...</td>\n",
       "      <td>...</td>\n",
       "      <td>...</td>\n",
       "      <td>...</td>\n",
       "      <td>...</td>\n",
       "      <td>...</td>\n",
       "      <td>...</td>\n",
       "      <td>...</td>\n",
       "      <td>...</td>\n",
       "      <td>...</td>\n",
       "      <td>...</td>\n",
       "      <td>...</td>\n",
       "      <td>...</td>\n",
       "      <td>...</td>\n",
       "    </tr>\n",
       "    <tr>\n",
       "      <th>5621</th>\n",
       "      <td>沖縄県</td>\n",
       "      <td>NaN</td>\n",
       "      <td>八重山郡</td>\n",
       "      <td>与那国町</td>\n",
       "      <td>47382</td>\n",
       "      <td>POLYGON ((123.01483 24.47263, 123.01483 24.472...</td>\n",
       "      <td>1</td>\n",
       "      <td>与那国町</td>\n",
       "      <td>NaN</td>\n",
       "      <td>0</td>\n",
       "      <td>NaN</td>\n",
       "      <td>NaN</td>\n",
       "      <td>1676</td>\n",
       "      <td>923</td>\n",
       "      <td>753</td>\n",
       "      <td>760</td>\n",
       "    </tr>\n",
       "    <tr>\n",
       "      <th>5622</th>\n",
       "      <td>沖縄県</td>\n",
       "      <td>NaN</td>\n",
       "      <td>八重山郡</td>\n",
       "      <td>与那国町</td>\n",
       "      <td>47382</td>\n",
       "      <td>POLYGON ((122.99033 24.47245, 122.99031 24.472...</td>\n",
       "      <td>1</td>\n",
       "      <td>与那国町</td>\n",
       "      <td>NaN</td>\n",
       "      <td>0</td>\n",
       "      <td>NaN</td>\n",
       "      <td>NaN</td>\n",
       "      <td>1676</td>\n",
       "      <td>923</td>\n",
       "      <td>753</td>\n",
       "      <td>760</td>\n",
       "    </tr>\n",
       "    <tr>\n",
       "      <th>5623</th>\n",
       "      <td>沖縄県</td>\n",
       "      <td>NaN</td>\n",
       "      <td>八重山郡</td>\n",
       "      <td>与那国町</td>\n",
       "      <td>47382</td>\n",
       "      <td>POLYGON ((123.00771 24.47383, 123.00773 24.473...</td>\n",
       "      <td>1</td>\n",
       "      <td>与那国町</td>\n",
       "      <td>NaN</td>\n",
       "      <td>0</td>\n",
       "      <td>NaN</td>\n",
       "      <td>NaN</td>\n",
       "      <td>1676</td>\n",
       "      <td>923</td>\n",
       "      <td>753</td>\n",
       "      <td>760</td>\n",
       "    </tr>\n",
       "    <tr>\n",
       "      <th>5624</th>\n",
       "      <td>沖縄県</td>\n",
       "      <td>NaN</td>\n",
       "      <td>八重山郡</td>\n",
       "      <td>与那国町</td>\n",
       "      <td>47382</td>\n",
       "      <td>POLYGON ((123.00657 24.47437, 123.00658 24.474...</td>\n",
       "      <td>1</td>\n",
       "      <td>与那国町</td>\n",
       "      <td>NaN</td>\n",
       "      <td>0</td>\n",
       "      <td>NaN</td>\n",
       "      <td>NaN</td>\n",
       "      <td>1676</td>\n",
       "      <td>923</td>\n",
       "      <td>753</td>\n",
       "      <td>760</td>\n",
       "    </tr>\n",
       "    <tr>\n",
       "      <th>5625</th>\n",
       "      <td>沖縄県</td>\n",
       "      <td>NaN</td>\n",
       "      <td>八重山郡</td>\n",
       "      <td>与那国町</td>\n",
       "      <td>47382</td>\n",
       "      <td>POLYGON ((122.99828 24.47500, 123.00000 24.473...</td>\n",
       "      <td>1</td>\n",
       "      <td>与那国町</td>\n",
       "      <td>NaN</td>\n",
       "      <td>0</td>\n",
       "      <td>NaN</td>\n",
       "      <td>NaN</td>\n",
       "      <td>1676</td>\n",
       "      <td>923</td>\n",
       "      <td>753</td>\n",
       "      <td>760</td>\n",
       "    </tr>\n",
       "  </tbody>\n",
       "</table>\n",
       "<p>5626 rows × 16 columns</p>\n",
       "</div>"
      ],
      "text/plain": [
       "     N03_001  N03_002 N03_003 N03_004  KEY_CODE  \\\n",
       "0        沖縄県      NaN     NaN     那覇市     47201   \n",
       "1        沖縄県      NaN     NaN     那覇市     47201   \n",
       "2        沖縄県      NaN     NaN     那覇市     47201   \n",
       "3        沖縄県      NaN     NaN     那覇市     47201   \n",
       "4        沖縄県      NaN     NaN     那覇市     47201   \n",
       "...      ...      ...     ...     ...       ...   \n",
       "5621     沖縄県      NaN    八重山郡    与那国町     47382   \n",
       "5622     沖縄県      NaN    八重山郡    与那国町     47382   \n",
       "5623     沖縄県      NaN    八重山郡    与那国町     47382   \n",
       "5624     沖縄県      NaN    八重山郡    与那国町     47382   \n",
       "5625     沖縄県      NaN    八重山郡    与那国町     47382   \n",
       "\n",
       "                                               geometry  HYOSYO CITYNAME NAME  \\\n",
       "0     POLYGON ((127.67066 26.22144, 127.67040 26.221...       1      那覇市  NaN   \n",
       "1     POLYGON ((127.66587 26.22150, 127.66585 26.221...       1      那覇市  NaN   \n",
       "2     POLYGON ((127.67139 26.22179, 127.67139 26.221...       1      那覇市  NaN   \n",
       "3     POLYGON ((127.66913 26.22214, 127.66954 26.221...       1      那覇市  NaN   \n",
       "4     POLYGON ((127.64293 26.22342, 127.64315 26.216...       1      那覇市  NaN   \n",
       "...                                                 ...     ...      ...  ...   \n",
       "5621  POLYGON ((123.01483 24.47263, 123.01483 24.472...       1     与那国町  NaN   \n",
       "5622  POLYGON ((122.99033 24.47245, 122.99031 24.472...       1     与那国町  NaN   \n",
       "5623  POLYGON ((123.00771 24.47383, 123.00773 24.473...       1     与那国町  NaN   \n",
       "5624  POLYGON ((123.00657 24.47437, 123.00658 24.474...       1     与那国町  NaN   \n",
       "5625  POLYGON ((122.99828 24.47500, 123.00000 24.473...       1     与那国町  NaN   \n",
       "\n",
       "      HTKSYORI  HTKSAKI  GASSAN    人口総数       男       女    世帯総数  \n",
       "0            0      NaN     NaN  317625  154042  163583  144355  \n",
       "1            0      NaN     NaN  317625  154042  163583  144355  \n",
       "2            0      NaN     NaN  317625  154042  163583  144355  \n",
       "3            0      NaN     NaN  317625  154042  163583  144355  \n",
       "4            0      NaN     NaN  317625  154042  163583  144355  \n",
       "...        ...      ...     ...     ...     ...     ...     ...  \n",
       "5621         0      NaN     NaN    1676     923     753     760  \n",
       "5622         0      NaN     NaN    1676     923     753     760  \n",
       "5623         0      NaN     NaN    1676     923     753     760  \n",
       "5624         0      NaN     NaN    1676     923     753     760  \n",
       "5625         0      NaN     NaN    1676     923     753     760  \n",
       "\n",
       "[5626 rows x 16 columns]"
      ]
     },
     "execution_count": 17,
     "metadata": {},
     "output_type": "execute_result"
    }
   ],
   "source": [
    "okinawa_ku_pop"
   ]
  },
  {
   "cell_type": "code",
   "execution_count": 18,
   "metadata": {},
   "outputs": [
    {
     "name": "stdout",
     "output_type": "stream",
     "text": [
      "<class 'geopandas.geodataframe.GeoDataFrame'>\n",
      "RangeIndex: 5626 entries, 0 to 5625\n",
      "Data columns (total 16 columns):\n",
      " #   Column    Non-Null Count  Dtype   \n",
      "---  ------    --------------  -----   \n",
      " 0   N03_001   5626 non-null   object  \n",
      " 1   N03_002   0 non-null      float64 \n",
      " 2   N03_003   2196 non-null   object  \n",
      " 3   N03_004   5626 non-null   object  \n",
      " 4   KEY_CODE  5626 non-null   int32   \n",
      " 5   geometry  5626 non-null   geometry\n",
      " 6   HYOSYO    5626 non-null   int64   \n",
      " 7   CITYNAME  5626 non-null   object  \n",
      " 8   NAME      0 non-null      object  \n",
      " 9   HTKSYORI  5626 non-null   int64   \n",
      " 10  HTKSAKI   0 non-null      float64 \n",
      " 11  GASSAN    0 non-null      float64 \n",
      " 12  人口総数      5626 non-null   object  \n",
      " 13  男         5626 non-null   object  \n",
      " 14  女         5626 non-null   object  \n",
      " 15  世帯総数      5626 non-null   object  \n",
      "dtypes: float64(3), geometry(1), int32(1), int64(2), object(9)\n",
      "memory usage: 681.4+ KB\n"
     ]
    }
   ],
   "source": [
    "okinawa_ku_pop.info()"
   ]
  },
  {
   "cell_type": "code",
   "execution_count": 19,
   "metadata": {},
   "outputs": [],
   "source": [
    "okinawa_ku_pop['人口総数'] = okinawa_ku_pop['人口総数'].astype(int)"
   ]
  },
  {
   "cell_type": "code",
   "execution_count": 20,
   "metadata": {},
   "outputs": [
    {
     "name": "stdout",
     "output_type": "stream",
     "text": [
      "<class 'geopandas.geodataframe.GeoDataFrame'>\n",
      "RangeIndex: 5626 entries, 0 to 5625\n",
      "Data columns (total 16 columns):\n",
      " #   Column    Non-Null Count  Dtype   \n",
      "---  ------    --------------  -----   \n",
      " 0   N03_001   5626 non-null   object  \n",
      " 1   N03_002   0 non-null      float64 \n",
      " 2   N03_003   2196 non-null   object  \n",
      " 3   N03_004   5626 non-null   object  \n",
      " 4   KEY_CODE  5626 non-null   int32   \n",
      " 5   geometry  5626 non-null   geometry\n",
      " 6   HYOSYO    5626 non-null   int64   \n",
      " 7   CITYNAME  5626 non-null   object  \n",
      " 8   NAME      0 non-null      object  \n",
      " 9   HTKSYORI  5626 non-null   int64   \n",
      " 10  HTKSAKI   0 non-null      float64 \n",
      " 11  GASSAN    0 non-null      float64 \n",
      " 12  人口総数      5626 non-null   int32   \n",
      " 13  男         5626 non-null   object  \n",
      " 14  女         5626 non-null   object  \n",
      " 15  世帯総数      5626 non-null   object  \n",
      "dtypes: float64(3), geometry(1), int32(2), int64(2), object(8)\n",
      "memory usage: 659.4+ KB\n"
     ]
    }
   ],
   "source": [
    "okinawa_ku_pop.info()"
   ]
  },
  {
   "cell_type": "code",
   "execution_count": 21,
   "metadata": {},
   "outputs": [
    {
     "data": {
      "text/plain": [
       "<Axes: >"
      ]
     },
     "execution_count": 21,
     "metadata": {},
     "output_type": "execute_result"
    },
    {
     "data": {
      "image/png": "[encoded data removed]",
      "text/plain": [
       "<Figure size 640x480 with 2 Axes>"
      ]
     },
     "metadata": {},
     "output_type": "display_data"
    }
   ],
   "source": [
    "okinawa_ku_pop.plot(column='人口総数',legend=True)"
   ]
  },
  {
   "cell_type": "code",
   "execution_count": 24,
   "metadata": {},
   "outputs": [
    {
     "data": {
      "text/plain": [
       "<Axes: >"
      ]
     },
     "execution_count": 24,
     "metadata": {},
     "output_type": "execute_result"
    },
    {
     "data": {
      "image/png": "[encoded data removed]",
      "text/plain": [
       "<Figure size 1500x1500 with 2 Axes>"
      ]
     },
     "metadata": {},
     "output_type": "display_data"
    }
   ],
   "source": [
    "okinawa_ku_pop.plot(figsize=(15,15),\n",
    "                  column='人口総数',\n",
    "                  legend=True)"
   ]
  },
  {
   "cell_type": "code",
   "execution_count": 25,
   "metadata": {},
   "outputs": [
    {
     "data": {
      "text/plain": [
       "<Axes: >"
      ]
     },
     "execution_count": 25,
     "metadata": {},
     "output_type": "execute_result"
    },
    {
     "data": {
      "image/png": "[encoded data removed]",
      "text/plain": [
       "<Figure size 1000x1000 with 2 Axes>"
      ]
     },
     "metadata": {},
     "output_type": "display_data"
    }
   ],
   "source": [
    "okinawa_ku_pop.plot(figsize=(10,10),\n",
    "                  column='人口総数',\n",
    "                  legend=True,\n",
    "                  cmap='RdYlGn_r')"
   ]
  },
  {
   "cell_type": "markdown",
   "metadata": {},
   "source": [
    "pythonでデータを読み込ませるために、0とoを打ち間違えてそのあとからほとんどのコードでエラーが出てしまったのでひとつひとつの確認が大切だと思った。\n",
    "カラーの地図だと、どこの地域にひとが多くいるのかわかりやすくなるから地図を作るときの面白いポイントだと感じた。"
   ]
  }
 ],
 "metadata": {
  "kernelspec": {
   "display_name": "gis",
   "language": "python",
   "name": "python3"
  },
  "language_info": {
   "codemirror_mode": {
    "name": "ipython",
    "version": 3
   },
   "file_extension": ".py",
   "mimetype": "text/x-python",
   "name": "python",
   "nbconvert_exporter": "python",
   "pygments_lexer": "ipython3",
   "version": "3.11.5"
  }
 },
 "nbformat": 4,
 "nbformat_minor": 2
}
